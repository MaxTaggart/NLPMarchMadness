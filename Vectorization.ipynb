{
 "cells": [
  {
   "cell_type": "markdown",
   "metadata": {},
   "source": [
    "# Vectorization"
   ]
  },
  {
   "cell_type": "markdown",
   "metadata": {},
   "source": [
    "## Elmo Embedder"
   ]
  },
  {
   "cell_type": "code",
   "execution_count": 1,
   "metadata": {},
   "outputs": [
    {
     "name": "stdout",
     "output_type": "stream",
     "text": [
      "Better speed can be achieved with apex installed from https://www.github.com/nvidia/apex.\n"
     ]
    }
   ],
   "source": [
    "from allennlp.commands.elmo import ElmoEmbedder\n",
    "import spacy\n",
    "import numpy as np\n",
    "\n",
    "elmo = ElmoEmbedder()\n",
    "nlp = spacy.load('en_core_web_sm')\n",
    "\n",
    "# def average_documents(document_list):\n",
    "#     individual_averages = []\n",
    "#     for doc_text in document_list:\n",
    "#         doc = nlp(doc_text)\n",
    "#         tensor = elmo.embed_sentence([token.text for token in doc])\n",
    "#         individual_averages.append(np.mean(tensor[2], axis=0))\n",
    "#     return np.mean(np.array(individual_averages), axis=0)\n",
    "\n",
    "def average_documents(document_list):\n",
    "    individual_averages = []\n",
    "    for doc_text in document_list:\n",
    "        doc = nlp(doc_text)\n",
    "        tensor = elmo.embed_sentence([token.text for token in doc])\n",
    "        individual_averages.append(np.mean(tensor[2], axis=0))\n",
    "    return individual_averages"
   ]
  },
  {
   "cell_type": "markdown",
   "metadata": {},
   "source": [
    "## Vectorize the Team Press Documents"
   ]
  },
  {
   "cell_type": "code",
   "execution_count": 2,
   "metadata": {},
   "outputs": [],
   "source": [
    "import pickle\n",
    "\n",
    "with open('names.pkl', 'rb') as i:\n",
    "    names = pickle.load(i)\n",
    "\n",
    "with open('text_lists.pkl', 'rb') as i:\n",
    "    text_lists = pickle.load(i)"
   ]
  },
  {
   "cell_type": "code",
   "execution_count": 24,
   "metadata": {},
   "outputs": [],
   "source": [
    "# clean the lists\n",
    "text_lists_clean = []\n",
    "for text_list in text_lists:\n",
    "    inner_list = []\n",
    "    for text in text_list:\n",
    "        if len(text) < 50:\n",
    "            continue\n",
    "        else:\n",
    "            inner_list.append(text)\n",
    "    text_lists_clean.append(inner_list)"
   ]
  },
  {
   "cell_type": "code",
   "execution_count": 26,
   "metadata": {},
   "outputs": [
    {
     "name": "stderr",
     "output_type": "stream",
     "text": [
      "100%|██████████| 68/68 [1:49:14<00:00, 76.80s/it]   \n"
     ]
    }
   ],
   "source": [
    "from tqdm import tqdm\n",
    "\n",
    "press_vectors = []\n",
    "for raw_text_list in tqdm(text_lists_clean):\n",
    "    press_vectors.append(average_documents(raw_text_list))\n",
    "    with open('press_vectors.pkl', 'wb') as out:\n",
    "        pickle.dump(press_vectors, out)"
   ]
  },
  {
   "cell_type": "code",
   "execution_count": 27,
   "metadata": {},
   "outputs": [],
   "source": [
    "import pickle\n",
    "\n",
    "with open('press_vectors.pkl', 'rb') as i:\n",
    "    press_vectors = pickle.load(i)"
   ]
  },
  {
   "cell_type": "code",
   "execution_count": 28,
   "metadata": {},
   "outputs": [
    {
     "data": {
      "text/plain": [
       "[array([ 0.17897075, -0.13472624, -0.28860024, ..., -0.25570223,\n",
       "         0.19174615,  0.38612315], dtype=float32),\n",
       " array([ 0.16407768, -0.15236291, -0.45347825, ..., -0.20872222,\n",
       "         0.05152787,  0.48828205], dtype=float32),\n",
       " array([ 0.03351332,  0.0100759 , -0.33813605, ..., -0.16992773,\n",
       "         0.08054047,  0.30680418], dtype=float32),\n",
       " array([ 0.16759877, -0.04871371, -0.2617827 , ..., -0.19115308,\n",
       "         0.27005473,  0.42724633], dtype=float32),\n",
       " array([ 0.10757665,  0.12121792, -0.43731433, ..., -0.14854185,\n",
       "        -0.1561414 ,  0.33163977], dtype=float32),\n",
       " array([ 0.08144642, -0.16864747, -0.3840909 , ..., -0.30881295,\n",
       "         0.05589694,  0.5249117 ], dtype=float32),\n",
       " array([-0.02217656, -0.1427221 , -0.45624396, ..., -0.27478608,\n",
       "         0.01590006,  0.49095   ], dtype=float32),\n",
       " array([ 0.05544323,  0.02304536, -0.52420545, ..., -0.32586262,\n",
       "         0.19809489,  0.29474694], dtype=float32),\n",
       " array([-0.01539924, -0.1306188 , -0.3882396 , ..., -0.291185  ,\n",
       "         0.02172417,  0.5378983 ], dtype=float32),\n",
       " array([ 0.21326317,  0.02848785, -0.41832158, ..., -0.20279667,\n",
       "        -0.10859409,  0.30780426], dtype=float32),\n",
       " array([ 0.15666397, -0.06188493, -0.3833129 , ..., -0.21025065,\n",
       "         0.17520013,  0.420036  ], dtype=float32),\n",
       " array([ 0.17001562, -0.04784484, -0.37517834, ..., -0.2482204 ,\n",
       "         0.08246263,  0.45613018], dtype=float32),\n",
       " array([ 0.08290946,  0.07071894, -0.53004724, ..., -0.21221595,\n",
       "        -0.06149068,  0.32070383], dtype=float32),\n",
       " array([ 0.14927958, -0.10000484, -0.2734605 , ..., -0.2850073 ,\n",
       "         0.05240455,  0.5054421 ], dtype=float32),\n",
       " array([ 0.0395138 , -0.19079599, -0.43354827, ..., -0.29653564,\n",
       "        -0.13669227,  0.47396767], dtype=float32),\n",
       " array([ 0.13672583, -0.13507499, -0.5664336 , ..., -0.20547555,\n",
       "        -0.24441321,  0.39296123], dtype=float32),\n",
       " array([ 0.17910968,  0.12120599, -0.38454401, ..., -0.11318481,\n",
       "        -0.14487664,  0.30553785], dtype=float32),\n",
       " array([ 0.04728276, -0.12125034, -0.35475585, ..., -0.3117473 ,\n",
       "         0.26450726,  0.5094373 ], dtype=float32),\n",
       " array([ 0.12254877, -0.05413152, -0.4239184 , ..., -0.29620975,\n",
       "        -0.05787649,  0.5140959 ], dtype=float32),\n",
       " array([ 0.1102566 , -0.05325272, -0.44002974, ..., -0.25996295,\n",
       "         0.08592854,  0.4763131 ], dtype=float32),\n",
       " array([ 0.13147949, -0.05404738, -0.4270937 , ..., -0.23531866,\n",
       "         0.21635368,  0.54521865], dtype=float32),\n",
       " array([ 0.10018075,  0.048463  , -0.38470885, ..., -0.24188428,\n",
       "        -0.0316927 ,  0.32950598], dtype=float32),\n",
       " array([-0.02408883, -0.14364757, -0.4595472 , ..., -0.33062536,\n",
       "        -0.12306085,  0.44292873], dtype=float32),\n",
       " array([ 0.06326538, -0.17127651, -0.23243427, ..., -0.29199213,\n",
       "         0.30482525,  0.53482866], dtype=float32),\n",
       " array([-0.22847174, -0.00072279, -0.36096016, ..., -0.3346869 ,\n",
       "        -0.34122673,  0.5003834 ], dtype=float32),\n",
       " array([ 0.11556634, -0.15811814, -0.39794114, ..., -0.25243086,\n",
       "         0.11043529,  0.45210862], dtype=float32),\n",
       " array([ 0.24806096, -0.07901232, -0.38731802, ..., -0.25951827,\n",
       "         0.16661738,  0.34729454], dtype=float32),\n",
       " array([ 0.11478186,  0.03202653, -0.54595166, ..., -0.30435196,\n",
       "        -0.1375554 ,  0.36344755], dtype=float32),\n",
       " array([ 0.23568264,  0.01885305, -0.36229998, ..., -0.09640051,\n",
       "        -0.01721138,  0.4069112 ], dtype=float32),\n",
       " array([ 0.23038417,  0.06671345, -0.30970517, ..., -0.15706986,\n",
       "         0.28319123,  0.31776005], dtype=float32),\n",
       " array([ 0.03750853,  0.13878506, -0.7078652 , ..., -0.23581797,\n",
       "        -0.15386254,  0.46398622], dtype=float32),\n",
       " array([ 0.11537988, -0.0767365 , -0.3276747 , ..., -0.24173678,\n",
       "        -0.04501705,  0.49980548], dtype=float32),\n",
       " array([ 0.10091608, -0.12336601, -0.41703278, ..., -0.22479545,\n",
       "        -0.00722329,  0.46944672], dtype=float32),\n",
       " array([ 0.22641906, -0.03854044, -0.48666131, ..., -0.17284693,\n",
       "        -0.04282222,  0.4474105 ], dtype=float32),\n",
       " array([ 0.16764429, -0.2208189 , -0.33483583, ..., -0.24371605,\n",
       "         0.26002344,  0.47821587], dtype=float32),\n",
       " array([ 0.13491754,  0.03872919, -0.47896445, ..., -0.23138379,\n",
       "        -0.01454819,  0.2098493 ], dtype=float32),\n",
       " array([ 0.04742095, -0.09442861, -0.44701472, ..., -0.23797454,\n",
       "        -0.11255897,  0.317493  ], dtype=float32),\n",
       " array([ 0.21013992, -0.1314208 , -0.33126673, ..., -0.29627895,\n",
       "        -0.22311853,  0.4871479 ], dtype=float32),\n",
       " array([ 0.09217377, -0.09032006, -0.38388997, ..., -0.16628827,\n",
       "        -0.15422739,  0.43770915], dtype=float32),\n",
       " array([-0.05432946,  0.06408404, -0.4744886 , ..., -0.3168995 ,\n",
       "        -0.13643765,  0.4775181 ], dtype=float32),\n",
       " array([ 0.33211952,  0.09953669, -0.32043272, ..., -0.06576315,\n",
       "         0.09775162,  0.27854314], dtype=float32),\n",
       " array([ 0.1580107 ,  0.05904137, -0.44757697, ..., -0.15727329,\n",
       "        -0.0335743 ,  0.31296602], dtype=float32),\n",
       " array([ 0.12448528, -0.09579536, -0.36748892, ..., -0.24896994,\n",
       "         0.06887912,  0.48887345], dtype=float32),\n",
       " array([ 2.5040480e-01,  2.3697890e-04, -3.6482137e-01, ...,\n",
       "        -1.7353202e-01,  2.7136675e-01,  3.5611671e-01], dtype=float32),\n",
       " array([ 0.06473748,  0.03687466, -0.4165673 , ..., -0.2980165 ,\n",
       "        -0.16520748,  0.27868235], dtype=float32),\n",
       " array([ 0.3103579 ,  0.2897406 , -0.18891975, ..., -0.04193214,\n",
       "         0.29625934,  0.26480055], dtype=float32),\n",
       " array([ 0.14123535, -0.00243666, -0.40771618, ..., -0.21686521,\n",
       "         0.39436418,  0.45168608], dtype=float32),\n",
       " array([ 0.05545462, -0.02461503, -0.30836904, ..., -0.25574198,\n",
       "         0.0192514 ,  0.48029318], dtype=float32),\n",
       " array([ 0.11065097,  0.04352254, -0.4662857 , ..., -0.21175376,\n",
       "        -0.20749147,  0.28172442], dtype=float32),\n",
       " array([ 0.15865692,  0.02306297, -0.4711045 , ..., -0.22067876,\n",
       "        -0.16284008,  0.3773458 ], dtype=float32),\n",
       " array([ 0.07291841, -0.00073445, -0.37436005, ..., -0.25703207,\n",
       "        -0.19394259,  0.4263365 ], dtype=float32),\n",
       " array([ 0.28395355,  0.06185512, -0.20184344, ..., -0.18368489,\n",
       "         0.0499084 ,  0.5871133 ], dtype=float32),\n",
       " array([-0.07030764, -0.08797263, -0.5697425 , ..., -0.2776496 ,\n",
       "        -0.21441147,  0.48648596], dtype=float32),\n",
       " array([ 0.11167914, -0.05566194, -0.34415594, ..., -0.1796426 ,\n",
       "        -0.0454698 ,  0.4595424 ], dtype=float32),\n",
       " array([ 0.10610843, -0.06838017, -0.4684339 , ..., -0.2417209 ,\n",
       "        -0.09336884,  0.41052648], dtype=float32),\n",
       " array([ 0.22106014,  0.1533591 , -0.3017696 , ..., -0.22835615,\n",
       "         0.00694796,  0.3287584 ], dtype=float32),\n",
       " array([ 0.12947777,  0.0267586 , -0.5034777 , ..., -0.17601691,\n",
       "        -0.04078748,  0.16147977], dtype=float32),\n",
       " array([ 0.10467205, -0.02877211, -0.54776275, ..., -0.244884  ,\n",
       "        -0.09365055,  0.26104233], dtype=float32),\n",
       " array([ 0.1703031 , -0.02855208, -0.23172146, ..., -0.2351724 ,\n",
       "         0.14948638,  0.4784865 ], dtype=float32),\n",
       " array([ 0.3167036 ,  0.13976493, -0.20875569, ..., -0.13887434,\n",
       "         0.19076768,  0.51323235], dtype=float32),\n",
       " array([ 0.07903995,  0.00926696, -0.4511612 , ..., -0.26761717,\n",
       "        -0.08288897,  0.45089972], dtype=float32),\n",
       " array([ 0.14847152, -0.14316529, -0.3563981 , ..., -0.26211008,\n",
       "        -0.04188196,  0.45163235], dtype=float32),\n",
       " array([ 0.3528481 , -0.06169514, -0.4286368 , ..., -0.14870936,\n",
       "         0.02330063,  0.5660824 ], dtype=float32),\n",
       " array([ 0.00172852, -0.06811474, -0.30833784, ..., -0.26641124,\n",
       "         0.00134843,  0.46362796], dtype=float32),\n",
       " array([ 0.19534886, -0.2109074 , -0.5227944 , ..., -0.25331625,\n",
       "         0.16364308,  0.4933654 ], dtype=float32),\n",
       " array([ 0.11644536, -0.0129344 , -0.4112109 , ..., -0.29772365,\n",
       "        -0.1732236 ,  0.34205344], dtype=float32),\n",
       " array([ 0.18061596,  0.02236454, -0.48411554, ..., -0.13547355,\n",
       "        -0.3500207 ,  0.3983386 ], dtype=float32),\n",
       " array([ 0.13069221, -0.10000226, -0.30687308, ..., -0.20432338,\n",
       "         0.2533333 ,  0.4883291 ], dtype=float32)]"
      ]
     },
     "execution_count": 28,
     "metadata": {},
     "output_type": "execute_result"
    }
   ],
   "source": [
    "press_averages = [np.mean(np.array(vecs), axis=0) for vecs in press_vectors]\n",
    "press_averages"
   ]
  },
  {
   "cell_type": "code",
   "execution_count": 29,
   "metadata": {},
   "outputs": [
    {
     "data": {
      "text/plain": [
       "68"
      ]
     },
     "execution_count": 29,
     "metadata": {},
     "output_type": "execute_result"
    }
   ],
   "source": [
    "len(press_averages)"
   ]
  },
  {
   "cell_type": "code",
   "execution_count": 38,
   "metadata": {},
   "outputs": [],
   "source": [
    "with open('press_averages.pkl', 'wb') as out:\n",
    "    pickle.dump(press_averages, out)"
   ]
  },
  {
   "cell_type": "markdown",
   "metadata": {},
   "source": [
    "## Vectorize the Songs"
   ]
  },
  {
   "cell_type": "code",
   "execution_count": 30,
   "metadata": {},
   "outputs": [],
   "source": [
    "songs = [\n",
    "    (\"We Are the Champions - Queen\", \"I've paid my dues, Time after time. I've done my sentence, But committed no crime. And bad mistakes, I've made a few. I've had my share of sand kicked in my face But I've come through. We are the champions, my friends. And we'll keep on fighting 'til the end. We are the champions. We are the champions. No time for losers because we are the champions of the world. I've taken my bows, And my curtain calls. You brought me fame and fortune and everything that goes with it; I thank you all. But it's been no bed of roses. No pleasure cruise. I consider it a challenge before the whole human race.  And I ain't gonna lose. We are the champions, my friends. And we'll keep on fighting 'til the end. We are the champions. We are the champions. No time for losers 'Cause we are the champions of the world. We are the champions, my friends. And we'll keep on fighting 'til the end. We are the champions. We are the champions. No time for losers 'Cause we are the champions. \"),\n",
    "    (\"Eye of the Tiger - Survivor\", \"Risin' up, back on the street Did my time, took my chances Went the distance, now I'm back on my feet Just a man and his will to survive So many times, it happens too fast You trade your passion for glory Don't lose your grip on the dreams of the past You must fight just to keep them alive It's the eye of the tiger, it's the thrill of the fight Risin' up to the challenge of our rival And the last known survivor stalks his prey in the night And he's watchin' us all with the eye of the tiger Face to face, out in the heat Hangin' tough, stayin' hungry They stack the odds 'till we take to the street For the kill with the skill to survive It's the eye of the tiger, it's the dream of the fight Risin' up to the challenge of our rival And the last known survivor stalks his prey in the night And he's watchin' us all with the eye of the tiger Risin' up, straight to the top Had the guts, got the glory Went the distance, now I'm not gonna stop Just a man and his will to survive It's the eye of the tiger, it's the dream of the fight Risin' up to the challenge of our rival And the last known survivor stalks his prey in the night And he's watchin' us all with the eye of the tiger The eye of the tiger The eye of the tiger The eye of the tiger The eye of the tiger\"),\n",
    "    (\"Radar Love - Golden Earing\", \"I've been drivin' all night, my hand's wet on the wheel There's a voice in my head that drives my heel It's my baby callin', says I need you here And it's a half past four and I'm shiftin' gear When she is lonely and the longing gets too much She sends a cable comin' in from above Don't need no phone at all We've got a thing that's called radar love We've got a wave in the air, radar love The radio is playing some forgotten song Brenda Lee's comin' on strong The road has got me hypnotized And I'm speedin' into a new sunrise When I get lonely and I'm sure I've had enough She sends her comfort comin' in from above We don't need no letter at all We've got a thing that's called radar love We've got a light in the sky, radar love No more speed, I'm almost there Gotta keep cool now, gotta take care Last car to pass, here I go And the line of cars drove down real slow And the radio played that forgotten song Brenda Lee's comin' on strong And the newsman sang his same song Oh one more radar lover gone When I get lonely and I'm sure I've had enough She sends her comfort comin' in from above We don't need no letter at all We've got a thing that's called radar love We've got a light in the sky We've got a thing that's called radar love We've got a thing that's called radar love\")\n",
    "]"
   ]
  },
  {
   "cell_type": "code",
   "execution_count": 33,
   "metadata": {},
   "outputs": [],
   "source": [
    "song_averages = [np.mean(np.array(average_documents([lyrics])), axis=0) for name, lyrics in songs]"
   ]
  },
  {
   "cell_type": "code",
   "execution_count": 34,
   "metadata": {},
   "outputs": [
    {
     "data": {
      "text/plain": [
       "(1024,)"
      ]
     },
     "execution_count": 34,
     "metadata": {},
     "output_type": "execute_result"
    }
   ],
   "source": [
    "song_averages[0].shape"
   ]
  },
  {
   "cell_type": "code",
   "execution_count": 35,
   "metadata": {},
   "outputs": [],
   "source": [
    "import pickle\n",
    "\n",
    "with open('song_averages.pkl', 'wb') as out:\n",
    "    pickle.dump(song_averages, out)"
   ]
  },
  {
   "cell_type": "markdown",
   "metadata": {},
   "source": [
    "## Ranking"
   ]
  },
  {
   "cell_type": "code",
   "execution_count": 40,
   "metadata": {},
   "outputs": [],
   "source": [
    "import pickle\n",
    "\n",
    "with open('song_averages.pkl', 'rb') as i:\n",
    "    song_averages = pickle.load(i)\n",
    "    \n",
    "with open('press_averages.pkl', 'rb') as i:\n",
    "    press_averages = pickle.load(i)\n",
    "    \n",
    "with open('names.pkl', 'rb') as i:\n",
    "    names = pickle.load(i)"
   ]
  },
  {
   "cell_type": "code",
   "execution_count": 44,
   "metadata": {},
   "outputs": [],
   "source": [
    "from scipy.spatial.distance import cosine\n",
    "import pandas as pd\n",
    "\n",
    "for (song_name, lyrics), song_average in zip(songs, song_averages):\n",
    "    data = []\n",
    "    for name, press_vec in zip(names, press_averages):\n",
    "        data.append((name, cosine(song_average, press_vec)))\n",
    "    pd.DataFrame(data, columns=['Team', 'Score']).sort_values('Score', ascending=False).to_csv(f'Rankings/{song_name}.csv', index=False)\n",
    "    "
   ]
  },
  {
   "cell_type": "code",
   "execution_count": null,
   "metadata": {},
   "outputs": [],
   "source": []
  },
  {
   "cell_type": "code",
   "execution_count": null,
   "metadata": {},
   "outputs": [],
   "source": []
  },
  {
   "cell_type": "code",
   "execution_count": null,
   "metadata": {},
   "outputs": [],
   "source": []
  },
  {
   "cell_type": "markdown",
   "metadata": {},
   "source": [
    "## Scratch"
   ]
  },
  {
   "cell_type": "code",
   "execution_count": null,
   "metadata": {},
   "outputs": [],
   "source": []
  }
 ],
 "metadata": {
  "kernelspec": {
   "display_name": "Python 3",
   "language": "python",
   "name": "python3"
  },
  "language_info": {
   "codemirror_mode": {
    "name": "ipython",
    "version": 3
   },
   "file_extension": ".py",
   "mimetype": "text/x-python",
   "name": "python",
   "nbconvert_exporter": "python",
   "pygments_lexer": "ipython3",
   "version": "3.7.1"
  }
 },
 "nbformat": 4,
 "nbformat_minor": 2
}
